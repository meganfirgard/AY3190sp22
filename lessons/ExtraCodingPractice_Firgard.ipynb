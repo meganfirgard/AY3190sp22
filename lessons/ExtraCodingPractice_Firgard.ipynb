{
 "cells": [
  {
   "cell_type": "markdown",
   "metadata": {},
   "source": [
    "**<font color='red'>Change the name from assignment_lastname to include YOUR last name</font>**. This will make sure that the assignment doesn't get overwritten when you do a git pull in class. "
   ]
  },
  {
   "cell_type": "markdown",
   "metadata": {},
   "source": [
    "##More Coding Practice"
   ]
  },
  {
   "cell_type": "markdown",
   "metadata": {},
   "source": [
    "## Due: Friday 4/8/2022"
   ]
  },
  {
   "cell_type": "markdown",
   "metadata": {},
   "source": [
    "Skills: Loops, lists, functions"
   ]
  },
  {
   "cell_type": "markdown",
   "metadata": {},
   "source": [
    "Remember to push to your github!"
   ]
  },
  {
   "cell_type": "markdown",
   "metadata": {},
   "source": [
    "Always start with your import statement!"
   ]
  },
  {
   "cell_type": "code",
   "execution_count": 32,
   "metadata": {},
   "outputs": [],
   "source": [
    "import numpy as np"
   ]
  },
  {
   "cell_type": "markdown",
   "metadata": {},
   "source": [
    "**Please read before completing exercise 1**\n",
    "Functions are a really useful tool for automating tasks that you want to do over and over again. For this first excercise, we will be building up to writing a function that calculates the Schwartzchild radius, or the size of the event horizon, of a black hole. You can read up a bit more on the Schwartzchild radius [here](http://www.astronomy.ohio-state.edu/~thompson/1144/Lecture19.html) if you would like. The only thing you're really going to need to know is the equation use to calculate the Schwartzchild radius: <br>\n",
    "$R_{S} = \\frac{2\\ G\\ M_{BH}}{c^{2}}$ <br>\n",
    "Where $R_{S}$ is the Schwartzchild radius, or radius of the event horizon. $G$ is the gravitational constant, a physical constant used to calculate gravitational effects. $M_{BH}$ is the mass of the black hole and $c$ is the speed of light, another physical constant."
   ]
  },
  {
   "cell_type": "markdown",
   "metadata": {},
   "source": [
    "First, we need to define our constants: $G$ and $c$. I'm putting in the values for you below, you just need to execute the cell. Note that astronomers use a base set of units called ``cgs``, short for centimeters-grams-seconds. Many of you might be familiar with SI units from a physics class which uses meters-kilograms-seconds. We keep all constants in the same base units to avoid doing too much unit conversion."
   ]
  },
  {
   "cell_type": "code",
   "execution_count": 2,
   "metadata": {},
   "outputs": [],
   "source": [
    "G = 6.6725985E-8 #cm^3 g^-1 s^-2\n",
    "c = 2.99792458E10 #cm s^-1"
   ]
  },
  {
   "cell_type": "markdown",
   "metadata": {},
   "source": [
    "**1)**\n",
    "Use the equation above to calculate the size of the Schwartzchild radius for a black hole with a mass of 10$M_{\\odot}$. Note that $1 M_{\\odot}=1.99 \\times 10^{33}$ grams. You will need to multiply 10 by this conversion factor to use the constants above and have your units work out."
   ]
  },
  {
   "cell_type": "code",
   "execution_count": 2,
   "metadata": {},
   "outputs": [
    {
     "name": "stdout",
     "output_type": "stream",
     "text": [
      "2954858.303829219\n"
     ]
    }
   ],
   "source": [
    "M_bh = 10*(1.99e33) #grams\n",
    "G = 6.6725985E-8 #cm^3 g^-1 s^-2\n",
    "c = 2.99792458E10 #cm s^-1\n",
    "R_s = (2*G*M_bh)/(c**2)\n",
    "\n",
    "print(R_s)"
   ]
  },
  {
   "cell_type": "markdown",
   "metadata": {},
   "source": [
    "**2)**\n",
    "Write a function called `schwartzchild_radius` that takes in a black hole mass and returns the Schwartzchild radius in centimeters. Please refer to our in class notebook on functions if you need to remember the structure a function has in python. Run your function and print out the Schwartzchild radius of a black hole with a mass of $1M_{\\odot}$."
   ]
  },
  {
   "cell_type": "code",
   "execution_count": 18,
   "metadata": {},
   "outputs": [],
   "source": [
    "def schwartzchild_radius(M_bh):\n",
    "    \"\"\"This function calulates the Schwartzchild Radius of a black hole.\"\"\"\n",
    "    G = 6.6725985E-8\n",
    "    c = 2.99792458E10\n",
    "    R_s = (2*G*M_bh)/(c**2)\n",
    "    return R_s"
   ]
  },
  {
   "cell_type": "code",
   "execution_count": 4,
   "metadata": {},
   "outputs": [
    {
     "data": {
      "text/plain": [
       "295485.8303829219"
      ]
     },
     "execution_count": 4,
     "metadata": {},
     "output_type": "execute_result"
    }
   ],
   "source": [
    "M_bh = 1.99e33 #grams\n",
    "schwartzchild_radius(M_bh)"
   ]
  },
  {
   "cell_type": "markdown",
   "metadata": {},
   "source": [
    "**3)** Copy your function into the cell below and modify it so that it prints out the Schwartzchild radius to screen in both cm and solar radii (X times the radius of the Sun). *Hint: $1 R_{\\odot}=6.96 \\times 10^{10}$ cm.*"
   ]
  },
  {
   "cell_type": "code",
   "execution_count": 15,
   "metadata": {},
   "outputs": [],
   "source": [
    "def schwartzchild_radius_both(M_bh):\n",
    "    \"\"\"This function calulates the Schwartzchild Radius of a black hole.\"\"\"\n",
    "    G = 6.6725985E-8\n",
    "    c = 2.99792458E10\n",
    "    R_s = (2*G*M_bh)/(c**2)\n",
    "    R_s_solar = R_s/(6.96e10)\n",
    "    R_s_both = [R_s,R_s_solar]\n",
    "    return R_s_both"
   ]
  },
  {
   "cell_type": "code",
   "execution_count": 12,
   "metadata": {},
   "outputs": [
    {
     "data": {
      "text/plain": [
       "[295485.8303829219, 4.2454860687201425e-06]"
      ]
     },
     "execution_count": 12,
     "metadata": {},
     "output_type": "execute_result"
    }
   ],
   "source": [
    "M_bh = 1.99e33 #grams\n",
    "schwartzchild_radius_both(M_bh)"
   ]
  },
  {
   "cell_type": "markdown",
   "metadata": {},
   "source": [
    "**4)** Now imagine that we could make a black hole out of the Earth (we can't). The mass of the Earth is $5.9 \\times 10^{27}$ grams. Calculate what the Earth's mass is in terms of solar masses and the use your function to calculate the Schwartzchild radius the Earth would have if it could collapse into a black hole. Google around to find some physical item you are familiar with that is about the same size."
   ]
  },
  {
   "cell_type": "code",
   "execution_count": 13,
   "metadata": {},
   "outputs": [
    {
     "data": {
      "text/plain": [
       "[4.40232923223969e-34, 6.325185678505302e-45]"
      ]
     },
     "execution_count": 13,
     "metadata": {},
     "output_type": "execute_result"
    }
   ],
   "source": [
    "M_earth = 5.9e27\n",
    "M_bh = M_earth/(1.99e33)\n",
    "schwartzchild_radius_both(M_bh)"
   ]
  },
  {
   "cell_type": "markdown",
   "metadata": {},
   "source": [
    "**5)**\n",
    "The mass of the black hole in the center of M87 that was measured by the Event Horizon Telescope team is $6.5\\times 10^{9} M_{\\odot}$. Calculate the radius of the event horizon for this black hole in both centimeters and solar radii."
   ]
  },
  {
   "cell_type": "code",
   "execution_count": 23,
   "metadata": {},
   "outputs": [
    {
     "name": "stdout",
     "output_type": "stream",
     "text": [
      "1920657897488992.5\n"
     ]
    }
   ],
   "source": [
    "M_bh = (6.5e9)*(1.99e33)\n",
    "R_sch = schwartzchild_radius(M_bh)\n",
    "print(R_sch)"
   ]
  },
  {
   "cell_type": "markdown",
   "metadata": {},
   "source": [
    "**6)** The ring diameter in the paper is given as ~$42 \\mu$as, or 42 micro-arcseconds. An arcsecond is a unit we us in astronomy to measure how big something looks on the sky. The size of an object in the sky depends on both the size of the object itself and its distance away from us. You can calculate the angular size of an object using the following equation: <br>\n",
    "$\\theta = \\frac{d\\ \\times\\ 206264}{D}$ arcseconds<br>\n",
    "Where $\\theta$ is the angular size of the object in arcseconds. The factor of 206,264 in the equation converts from radians to arcseconds for you. $d$ is the physical diameter of the object and D is the distance to that object. You need both $d$ and $D$ to be given in the same units. Here we will use centimeters. <br>\n",
    "\n",
    "Write a function called `angular_size` that takes in the DIAMETER (not the radius) of an object in centimeters and the distance to that object in centimeters and returns its angular size in arcseconds. The distance to M87 is ~ $5 \\times 10^{25}$ centimeters. Use your function to print out the angular size of the black hole in M87 in arcseconds. Use the radius you calculated in the question above and the distance to M87 listed above for your calculations."
   ]
  },
  {
   "cell_type": "code",
   "execution_count": 27,
   "metadata": {},
   "outputs": [],
   "source": [
    "def angular_size(d,D):\n",
    "    \"\"\"This function takes a diameter of an object and a distance to that object and returns the agnular size of it\n",
    "    in arcseconds.\"\"\"\n",
    "    theta = (d*206264)/D\n",
    "    return theta"
   ]
  },
  {
   "cell_type": "code",
   "execution_count": 24,
   "metadata": {},
   "outputs": [
    {
     "data": {
      "text/plain": [
       "1.584650322270678e-05"
      ]
     },
     "execution_count": 24,
     "metadata": {},
     "output_type": "execute_result"
    }
   ],
   "source": [
    "d = 2*R_sch\n",
    "D = 5e25 #cm\n",
    "\n",
    "angular_size(d,D)"
   ]
  },
  {
   "cell_type": "markdown",
   "metadata": {},
   "source": [
    "**7)**\n",
    "How does this angular size compare to the ring diameter listed in the paper? If your answers don't match up, why not (look back at your reading questions from part A)? *Hint: $1 \\mu as = 1.0 \\times 10^{-6} as$* "
   ]
  },
  {
   "cell_type": "code",
   "execution_count": 26,
   "metadata": {},
   "outputs": [],
   "source": [
    "#I got 15𝜇𝑎𝑠 for the angular size, which is close but not exactly the same value the paper had for the ring diameter. "
   ]
  },
  {
   "cell_type": "markdown",
   "metadata": {},
   "source": []
  },
  {
   "cell_type": "markdown",
   "metadata": {},
   "source": [
    "**8)** Add a doc-string to your function `schwartzchild_radius` with instructions for a future user (or future you!). Doc-strings are REALLY important when working on a long term research project. You will likely need to go back to code you write a couple of weeks/months/years ago and you need to understand what it does. In addition to adding doc-strings, make sure you comment your code. I always add comments with units for constants, because this can help clarify bugs later on! Check back to your functions notebook from class if you need to remember the syntax for adding a doc-string."
   ]
  },
  {
   "cell_type": "code",
   "execution_count": 28,
   "metadata": {},
   "outputs": [],
   "source": [
    "def schwartzchild_radius_both(M_bh):\n",
    "    \"\"\"This function calulates the Schwartzchild Radius of a black hole and returns the answer in both centimeters\n",
    "    and solar radii, respectively. It takes the mass of a black hole in grams.\"\"\"\n",
    "    G = 6.6725985E-8 #cm^3 g^-1 s^-2\n",
    "    c = 2.99792458E10 #cm s^-1\n",
    "    R_s = (2*G*M_bh)/(c**2)\n",
    "    R_s_solar = R_s/(6.96e10)\n",
    "    R_s_both = [R_s,R_s_solar]\n",
    "    return R_s_both"
   ]
  },
  {
   "cell_type": "markdown",
   "metadata": {},
   "source": [
    "Now use the Jupyter notebook help functionality to view your doc string for your new function! If you execute the cell below like you do when you're running code, the information in your doc-string should show up."
   ]
  },
  {
   "cell_type": "code",
   "execution_count": 30,
   "metadata": {},
   "outputs": [],
   "source": [
    "schwartzchild_radius_both?"
   ]
  },
  {
   "cell_type": "markdown",
   "metadata": {},
   "source": [
    "**9)**\n",
    "Now, let's incorporate some lists and loops to utilize our functions! Create a numpy array called `masses` that contains 10 values between 10 and 1,000,000 spaced logarithmically (there is a `numpy` function for this). These values will be the masses of 10 black holes, for which we want to calculate the Schwartzchild radius. <br>\n",
    "\n",
    "For this assignment you will create two different for loops in the cells below. Both loops will be `for` loops that run your `schwartzchild_radius` function on each black hole mass in the array you created above, assuming the masses are in solar mass units. You should include a `print` statement in each loop before you call the `schwartzchild_radius` function that prints out the current black hole mass. <br>\n",
    "\n",
    "Look back at the notebook titled `04-control_flow_Lastname` and scroll to Example 7. **First**, you will make a `for` loop that follows the syntax of the first loop in that example (`for period in orbital_periods:`). **Second**, you will make a `for` loop that follows the syntax in the next code cell (`for i in range(5):`) where the range is the length of your `masses` array."
   ]
  },
  {
   "cell_type": "code",
   "execution_count": 37,
   "metadata": {},
   "outputs": [
    {
     "name": "stdout",
     "output_type": "stream",
     "text": [
      "[1.00000000e+01 3.59381366e+01 1.29154967e+02 4.64158883e+02\n",
      " 1.66810054e+03 5.99484250e+03 2.15443469e+04 7.74263683e+04\n",
      " 2.78255940e+05 1.00000000e+06]\n",
      "[1.99000000e+34 7.15168919e+34 2.57018383e+35 9.23676178e+35\n",
      " 3.31952007e+36 1.19297366e+37 4.28732503e+37 1.54078473e+38\n",
      " 5.53729321e+38 1.99000000e+39]\n"
     ]
    }
   ],
   "source": [
    "masses = np.logspace(1,6,num=10)\n",
    "print(masses)\n",
    "masses_g = masses*(1.99e33)\n",
    "print(masses_g)"
   ]
  },
  {
   "cell_type": "code",
   "execution_count": 44,
   "metadata": {},
   "outputs": [
    {
     "name": "stdout",
     "output_type": "stream",
     "text": [
      "Mass: 1.99e+34\n",
      "Schwartzchild Radius: 2954858.303829219\n",
      "Mass: 7.151689190971209e+34\n",
      "Schwartzchild Radius: 10619210.146908013\n",
      "Mass: 2.5701838333796188e+35\n",
      "Schwartzchild Radius: 38163462.52477076\n",
      "Mass: 9.236761778889435e+35\n",
      "Schwartzchild Radius: 137152373.07961708\n",
      "Mass: 3.3195200690281177e+36\n",
      "Schwartzchild Radius: 492900072.3967576\n",
      "Mass: 1.1929736581346924e+37\n",
      "Schwartzchild Radius: 1771391015.0697567\n",
      "Mass: 4.287325033163454e+37\n",
      "Schwartzchild Radius: 6366049233.89845\n",
      "Mass: 1.5407847285354444e+38\n",
      "Schwartzchild Radius: 22878394721.23722\n",
      "Mass: 5.53729321039218e+38\n",
      "Schwartzchild Radius: 82220687555.09793\n",
      "Mass: 1.99e+39\n",
      "Schwartzchild Radius: 295485830382.9219\n"
     ]
    }
   ],
   "source": [
    "for mass in masses_g:\n",
    "    print('Mass:',mass)\n",
    "    print('Schwartzchild Radius:',schwartzchild_radius(mass))"
   ]
  },
  {
   "cell_type": "code",
   "execution_count": 49,
   "metadata": {},
   "outputs": [
    {
     "name": "stdout",
     "output_type": "stream",
     "text": [
      "Masses: 1.99e+34\n",
      "Schwartzchild Radius: 2954858.303829219\n",
      "Masses: 7.151689190971209e+34\n",
      "Schwartzchild Radius: 10619210.146908013\n",
      "Masses: 2.5701838333796188e+35\n",
      "Schwartzchild Radius: 38163462.52477076\n",
      "Masses: 9.236761778889435e+35\n",
      "Schwartzchild Radius: 137152373.07961708\n",
      "Masses: 3.3195200690281177e+36\n",
      "Schwartzchild Radius: 492900072.3967576\n",
      "Masses: 1.1929736581346924e+37\n",
      "Schwartzchild Radius: 1771391015.0697567\n",
      "Masses: 4.287325033163454e+37\n",
      "Schwartzchild Radius: 6366049233.89845\n",
      "Masses: 1.5407847285354444e+38\n",
      "Schwartzchild Radius: 22878394721.23722\n",
      "Masses: 5.53729321039218e+38\n",
      "Schwartzchild Radius: 82220687555.09793\n",
      "Masses: 1.99e+39\n",
      "Schwartzchild Radius: 295485830382.9219\n"
     ]
    }
   ],
   "source": [
    "number_of_masses_g = len(masses_g)\n",
    "\n",
    "for i in range(number_of_masses_g):\n",
    "    print('Masses:',masses_g[i])\n",
    "    print('Schwartzchild Radius:', schwartzchild_radius(masses_g[i]))"
   ]
  },
  {
   "cell_type": "markdown",
   "metadata": {},
   "source": [
    "**10)**\n",
    "Now copy your second `for` loop from the previous question into the cell below and edit it so that you only print out the black hole mass for the even-indexed black hole masses (indexes of 0, 2, 4, ...). You still want to calculate the Schwartzchild radius for each black hole mass."
   ]
  },
  {
   "cell_type": "code",
   "execution_count": 52,
   "metadata": {},
   "outputs": [
    {
     "name": "stdout",
     "output_type": "stream",
     "text": [
      "Masses: 1.99e+34\n",
      "Schwartzchild Radius: 2954858.303829219\n",
      "Schwartzchild Radius: 10619210.146908013\n",
      "Masses: 2.5701838333796188e+35\n",
      "Schwartzchild Radius: 38163462.52477076\n",
      "Schwartzchild Radius: 137152373.07961708\n",
      "Masses: 3.3195200690281177e+36\n",
      "Schwartzchild Radius: 492900072.3967576\n",
      "Schwartzchild Radius: 1771391015.0697567\n",
      "Masses: 4.287325033163454e+37\n",
      "Schwartzchild Radius: 6366049233.89845\n",
      "Schwartzchild Radius: 22878394721.23722\n",
      "Masses: 5.53729321039218e+38\n",
      "Schwartzchild Radius: 82220687555.09793\n",
      "Schwartzchild Radius: 295485830382.9219\n"
     ]
    }
   ],
   "source": [
    "number_of_masses_g = len(masses_g)\n",
    "\n",
    "for i in range(number_of_masses_g):\n",
    "    if i%2==0:\n",
    "        print('Masses:',masses_g[i])\n",
    "    print('Schwartzchild Radius:', schwartzchild_radius(masses_g[i]))"
   ]
  }
 ],
 "metadata": {
  "kernelspec": {
   "display_name": "Python 3 (ipykernel)",
   "language": "python",
   "name": "python3"
  },
  "language_info": {
   "codemirror_mode": {
    "name": "ipython",
    "version": 3
   },
   "file_extension": ".py",
   "mimetype": "text/x-python",
   "name": "python",
   "nbconvert_exporter": "python",
   "pygments_lexer": "ipython3",
   "version": "3.9.7"
  }
 },
 "nbformat": 4,
 "nbformat_minor": 2
}
